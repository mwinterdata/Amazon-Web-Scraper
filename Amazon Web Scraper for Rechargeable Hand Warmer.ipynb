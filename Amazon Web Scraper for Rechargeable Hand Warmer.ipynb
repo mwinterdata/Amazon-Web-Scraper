{
 "cells": [
  {
   "cell_type": "code",
   "execution_count": 1,
   "id": "53b7e4a4",
   "metadata": {},
   "outputs": [],
   "source": [
    "#Import libraries\n",
    "\n",
    "from bs4 import BeautifulSoup\n",
    "import requests\n",
    "import time\n",
    "import datetime\n",
    "import smtplib\n"
   ]
  },
  {
   "cell_type": "code",
   "execution_count": 2,
   "id": "45b4f84c",
   "metadata": {},
   "outputs": [],
   "source": [
    "# connect to website\n",
    "\n",
    "URL = 'https://www.amazon.co.uk/OCOOPA-Delivery-Reusable-Rechargeable-Outdoors/dp/B08GQ34XWW/ref=sr_1_63_sspa?crid=2OGOUJAU1ERW3&keywords=hand%2Bwarmer&qid=1673446359&refinements=p_72%3A184323031&rnid=184305031&s=sports&sprefix=hand%2Bwarmer%2Caps%2C127&sr=1-63-spons&sp_csd=d2lkZ2V0TmFtZT1zcF9idGY&th=1'\n",
    "\n",
    "headers = {\"User-Agent\": \"Mozilla/5.0 (Windows NT 10.0; Win64; x64) AppleWebKit/537.36 (KHTML, like Gecko) Chrome/108.0.0.0 Safari/537.36 Edg/108.0.1462.76\", \n",
    "    \"X-Amzn-Trace-Id\": \"Root=1-63bec726-2900c5924d0a700532b2ad56\"}\n",
    "\n",
    "page = requests.get(URL, headers = headers)\n",
    "\n",
    "soup1 = BeautifulSoup(page.content, 'html.parser')\n",
    "\n",
    "soup2 = BeautifulSoup(soup1.prettify(), 'html.parser')\n",
    "\n",
    "title = soup2.find(id = 'productTitle').get_text()\n",
    "\n",
    "price = soup2.find(id = 'corePrice_feature_div').get_text()\n",
    "\n",
    "ratings = soup2.find(id = 'averageCustomerReviews').get_text()\n",
    "\n",
    "#print(title)\n",
    "#print(price)\n",
    "#print(rating)\n"
   ]
  },
  {
   "cell_type": "code",
   "execution_count": 3,
   "id": "159ff77e",
   "metadata": {},
   "outputs": [
    {
     "name": "stdout",
     "output_type": "stream",
     "text": [
      "OCOOPA Quick Charge Hand Warmers Rechargeable, Power Delivery 10000mAh USB C Reusable Electric Hand Warmer Power Bank, 3 Heat Levels,15hrs Long Lasting Battery handwarmer for Outdoors, Tech Gift Women Men\n",
      "27.19\n",
      "4.5\n",
      "5,170\n"
     ]
    }
   ],
   "source": [
    "#clean metrics and seperate rating from number of reviews\n",
    "\n",
    "title = title.strip() \n",
    "price = price.strip()[1:6]\n",
    "rating = ratings.strip()[:3]\n",
    "num_reviews = ratings.strip()[-13:-8]\n",
    "\n",
    "print(title)\n",
    "print(price)\n",
    "print(rating)\n",
    "print(num_reviews)"
   ]
  },
  {
   "cell_type": "code",
   "execution_count": 4,
   "id": "25b0c20f",
   "metadata": {},
   "outputs": [],
   "source": [
    "import csv\n",
    "\n",
    "header = ['Title', 'Price/£', 'Rating/5', 'Number of Reviews']\n",
    "data = [title, price, rating, num_reviews]\n",
    "\n",
    "with open('AmazonRechargeableHandWarmerScrapedData.csv', 'w', newline= '', encoding= 'UTF8') as s:\n",
    "    writer = csv.writer(s)\n",
    "    writer.writerow(header)\n",
    "    writer.writerow(data)"
   ]
  },
  {
   "cell_type": "code",
   "execution_count": 5,
   "id": "73e2d27b",
   "metadata": {},
   "outputs": [],
   "source": [
    "import datetime\n",
    "\n",
    "today = datetime.date.today()\n",
    "\n",
    "#print(today)"
   ]
  },
  {
   "cell_type": "code",
   "execution_count": 6,
   "id": "b68e67a7",
   "metadata": {},
   "outputs": [],
   "source": [
    "import csv\n",
    "\n",
    "header = ['Title','Date', 'Price/£', 'Rating/5', 'Number of Reviews']\n",
    "data = [title, today, price, rating, num_reviews]\n",
    "\n",
    "with open('AmazonRechargeableHandWarmerScrapedData.csv', 'w', newline= '', encoding= 'UTF8') as s:\n",
    "    writer = csv.writer(s)\n",
    "    writer.writerow(header)\n",
    "    writer.writerow(data)"
   ]
  },
  {
   "cell_type": "code",
   "execution_count": 7,
   "id": "fd359432",
   "metadata": {},
   "outputs": [
    {
     "name": "stdout",
     "output_type": "stream",
     "text": [
      "                                               Title        Date  Price/£  \\\n",
      "0  OCOOPA Quick Charge Hand Warmers Rechargeable,...  2023-02-16    27.19   \n",
      "\n",
      "   Rating/5 Number of Reviews  \n",
      "0       4.5             5,170  \n"
     ]
    }
   ],
   "source": [
    "import pandas as pd\n",
    "\n",
    "df = pd.read_csv(r'C:\\Users\\winte\\AmazonRechargeableHandWarmerScrapedData.csv')\n",
    "\n",
    "print(df)"
   ]
  },
  {
   "cell_type": "code",
   "execution_count": 8,
   "id": "fc603947",
   "metadata": {},
   "outputs": [],
   "source": [
    "# appending data to csv\n",
    "\n",
    "with open('AmazonRechargeableHandWarmerScrapedData.csv', 'a+', newline= '', encoding= 'UTF8') as s:\n",
    "    writer = csv.writer(s)\n",
    "    writer.writerow(data)"
   ]
  },
  {
   "cell_type": "code",
   "execution_count": 9,
   "id": "5ecb704b",
   "metadata": {},
   "outputs": [],
   "source": [
    "def check_price():\n",
    "    URL = 'https://www.amazon.co.uk/OCOOPA-Delivery-Reusable-Rechargeable-Outdoors/dp/B08GQ34XWW/ref=sr_1_63_sspa?crid=2OGOUJAU1ERW3&keywords=hand%2Bwarmer&qid=1673446359&refinements=p_72%3A184323031&rnid=184305031&s=sports&sprefix=hand%2Bwarmer%2Caps%2C127&sr=1-63-spons&sp_csd=d2lkZ2V0TmFtZT1zcF9idGY&th=1'\n",
    "\n",
    "    headers = {\"User-Agent\": \"Mozilla/5.0 (Windows NT 10.0; Win64; x64) AppleWebKit/537.36 (KHTML, like Gecko) Chrome/108.0.0.0 Safari/537.36 Edg/108.0.1462.76\", \n",
    "    \"X-Amzn-Trace-Id\": \"Root=1-63bec726-2900c5924d0a700532b2ad56\"}\n",
    "\n",
    "    page = requests.get(URL, headers = headers)\n",
    "\n",
    "    soup1 = BeautifulSoup(page.content, 'html.parser')\n",
    "    soup2 = BeautifulSoup(soup1.prettify(), 'html.parser')\n",
    "\n",
    "    title = soup2.find(id = 'productTitle').get_text()\n",
    "    price = soup2.find(id = 'corePrice_feature_div').get_text()\n",
    "    ratings = soup2.find(id = 'averageCustomerReviews').get_text()\n",
    "    \n",
    "    \n",
    "    title = title.strip() \n",
    "    price = price.strip()[1:6]\n",
    "    rating = ratings.strip()[:3]\n",
    "    num_reviews = ratings.strip()[-13:-8]\n",
    "    \n",
    "    \n",
    "    import datetime\n",
    "    today = datetime.date.today()\n",
    "    \n",
    "    \n",
    "    import csv\n",
    "    header = ['Title','Date', 'Price/£', 'Rating/5', 'Number of Reviews']\n",
    "    data = [title, today, price, rating, num_reviews]\n",
    "    \n",
    "    with open('AmazonRechargeableHandWarmerScrapedData.csv', 'a+', newline= '', encoding= 'UTF8') as s:\n",
    "        writer = csv.writer(s)\n",
    "        writer.writerow(data)\n",
    "    "
   ]
  },
  {
   "cell_type": "code",
   "execution_count": null,
   "id": "3b7ea7fe",
   "metadata": {},
   "outputs": [],
   "source": [
    "while(True):\n",
    "    check_price()\n",
    "    time.sleep(86400)"
   ]
  },
  {
   "cell_type": "code",
   "execution_count": null,
   "id": "46e210cd",
   "metadata": {},
   "outputs": [],
   "source": []
  },
  {
   "cell_type": "code",
   "execution_count": null,
   "id": "7746aca6",
   "metadata": {},
   "outputs": [],
   "source": []
  }
 ],
 "metadata": {
  "kernelspec": {
   "display_name": "Python 3 (ipykernel)",
   "language": "python",
   "name": "python3"
  },
  "language_info": {
   "codemirror_mode": {
    "name": "ipython",
    "version": 3
   },
   "file_extension": ".py",
   "mimetype": "text/x-python",
   "name": "python",
   "nbconvert_exporter": "python",
   "pygments_lexer": "ipython3",
   "version": "3.9.13"
  }
 },
 "nbformat": 4,
 "nbformat_minor": 5
}
